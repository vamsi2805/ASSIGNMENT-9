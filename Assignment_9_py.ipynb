{
  "nbformat": 4,
  "nbformat_minor": 0,
  "metadata": {
    "colab": {
      "name": "Assignment 9.py",
      "provenance": [],
      "collapsed_sections": [],
      "authorship_tag": "ABX9TyO9lvBPouC7Wd5bSl7T2ZO+",
      "include_colab_link": true
    },
    "kernelspec": {
      "name": "python3",
      "display_name": "Python 3"
    }
  },
  "cells": [
    {
      "cell_type": "markdown",
      "metadata": {
        "id": "view-in-github",
        "colab_type": "text"
      },
      "source": [
        "<a href=\"https://colab.research.google.com/github/vamsi2805/ASSIGNMENT-9/blob/master/Assignment_9_py.ipynb\" target=\"_parent\"><img src=\"https://colab.research.google.com/assets/colab-badge.svg\" alt=\"Open In Colab\"/></a>"
      ]
    },
    {
      "cell_type": "markdown",
      "metadata": {
        "id": "TEt-Nhs08XFU",
        "colab_type": "text"
      },
      "source": [
        "1.Write a program that prints integers from 1 to 100. But for multiples of 3, print 'Fizz' instead of the number and for the multiples of 5, print 'Buzz'. For numbers which are multiples of both 3 and 5, print 'FizzBuzz'."
      ]
    },
    {
      "cell_type": "code",
      "metadata": {
        "id": "tCWXFblM8YlZ",
        "colab_type": "code",
        "colab": {
          "base_uri": "https://localhost:8080/",
          "height": 1000
        },
        "outputId": "bbb4e43e-fa41-43d8-d7c3-aaac4c732dfc"
      },
      "source": [
        "for i in range(1,100):\n",
        "    if i%3==0 and i%5==0:\n",
        "        i=\"FizzBuzz\"\n",
        "        print(i)\n",
        "    elif i%5==0:\n",
        "        i=\"Buzz\"\n",
        "        print(i)\n",
        "    elif i%3==0:\n",
        "        i=\"Fizz\"\n",
        "        print(i)\n",
        "    else:\n",
        "        print(i)"
      ],
      "execution_count": 2,
      "outputs": [
        {
          "output_type": "stream",
          "text": [
            "1\n",
            "2\n",
            "Fizz\n",
            "4\n",
            "Buzz\n",
            "Fizz\n",
            "7\n",
            "8\n",
            "Fizz\n",
            "Buzz\n",
            "11\n",
            "Fizz\n",
            "13\n",
            "14\n",
            "FizzBuzz\n",
            "16\n",
            "17\n",
            "Fizz\n",
            "19\n",
            "Buzz\n",
            "Fizz\n",
            "22\n",
            "23\n",
            "Fizz\n",
            "Buzz\n",
            "26\n",
            "Fizz\n",
            "28\n",
            "29\n",
            "FizzBuzz\n",
            "31\n",
            "32\n",
            "Fizz\n",
            "34\n",
            "Buzz\n",
            "Fizz\n",
            "37\n",
            "38\n",
            "Fizz\n",
            "Buzz\n",
            "41\n",
            "Fizz\n",
            "43\n",
            "44\n",
            "FizzBuzz\n",
            "46\n",
            "47\n",
            "Fizz\n",
            "49\n",
            "Buzz\n",
            "Fizz\n",
            "52\n",
            "53\n",
            "Fizz\n",
            "Buzz\n",
            "56\n",
            "Fizz\n",
            "58\n",
            "59\n",
            "FizzBuzz\n",
            "61\n",
            "62\n",
            "Fizz\n",
            "64\n",
            "Buzz\n",
            "Fizz\n",
            "67\n",
            "68\n",
            "Fizz\n",
            "Buzz\n",
            "71\n",
            "Fizz\n",
            "73\n",
            "74\n",
            "FizzBuzz\n",
            "76\n",
            "77\n",
            "Fizz\n",
            "79\n",
            "Buzz\n",
            "Fizz\n",
            "82\n",
            "83\n",
            "Fizz\n",
            "Buzz\n",
            "86\n",
            "Fizz\n",
            "88\n",
            "89\n",
            "FizzBuzz\n",
            "91\n",
            "92\n",
            "Fizz\n",
            "94\n",
            "Buzz\n",
            "Fizz\n",
            "97\n",
            "98\n",
            "Fizz\n"
          ],
          "name": "stdout"
        }
      ]
    },
    {
      "cell_type": "code",
      "metadata": {
        "id": "UrMdpGQ49sH-",
        "colab_type": "code",
        "colab": {}
      },
      "source": [
        "2. write a program to remove consecutive duplicates from a list."
      ],
      "execution_count": null,
      "outputs": []
    },
    {
      "cell_type": "code",
      "metadata": {
        "id": "exs06Vb695Ji",
        "colab_type": "code",
        "colab": {
          "base_uri": "https://localhost:8080/",
          "height": 68
        },
        "outputId": "af8e5318-1f09-4b16-c8d0-d7337f180220"
      },
      "source": [
        "mylist=[0,1,2,3,3,4,5,5,]\n",
        "prev=None\n",
        "newlist=[]\n",
        "\n",
        "for item in mylist:\n",
        "    if item!=prev:\n",
        "        newlist.append(item)\n",
        "        prev=item\n",
        "print(\"The new list:\\n\")\n",
        "print(newlist)"
      ],
      "execution_count": 3,
      "outputs": [
        {
          "output_type": "stream",
          "text": [
            "The new list:\n",
            "\n",
            "[0, 1, 2, 3, 4, 5]\n"
          ],
          "name": "stdout"
        }
      ]
    },
    {
      "cell_type": "markdown",
      "metadata": {
        "id": "SybHMuhe-F-l",
        "colab_type": "text"
      },
      "source": [
        "3. Find unique elements in a list."
      ]
    },
    {
      "cell_type": "code",
      "metadata": {
        "id": "-8YeRsSj-I1N",
        "colab_type": "code",
        "colab": {
          "base_uri": "https://localhost:8080/",
          "height": 34
        },
        "outputId": "1f19f78e-9840-4a28-a501-e6cf09750f57"
      },
      "source": [
        "mylist=[0,1,2,3,3,4,5,5,7,8,4]\n",
        "newlist=set(mylist)\n",
        "print(list(newlist))\n"
      ],
      "execution_count": 4,
      "outputs": [
        {
          "output_type": "stream",
          "text": [
            "[0, 1, 2, 3, 4, 5, 7, 8]\n"
          ],
          "name": "stdout"
        }
      ]
    },
    {
      "cell_type": "markdown",
      "metadata": {
        "id": "ZKM1hNOT-eSh",
        "colab_type": "text"
      },
      "source": [
        "4. Write a function that checks if a number is in the given range or not (inclusive of high and low)."
      ]
    },
    {
      "cell_type": "code",
      "metadata": {
        "id": "M1CphvjW-mB3",
        "colab_type": "code",
        "colab": {
          "base_uri": "https://localhost:8080/",
          "height": 34
        },
        "outputId": "dc262875-ad88-4ba7-fd03-45e33f6097dd"
      },
      "source": [
        "def check_range(num,start,stop):\n",
        "    if num in range(start,stop+1):\n",
        "        print(num,\"is present in the given range.\")\n",
        "    else:\n",
        "        print(num,\"is not present in the given range.\")\n",
        "check_range(1,2,3)"
      ],
      "execution_count": 6,
      "outputs": [
        {
          "output_type": "stream",
          "text": [
            "1 is not present in the given range.\n"
          ],
          "name": "stdout"
        }
      ]
    },
    {
      "cell_type": "markdown",
      "metadata": {
        "id": "8mZA0x67_KWN",
        "colab_type": "text"
      },
      "source": [
        "5. Function that accepts a string and calculates the number of uppercase and lowercase characters."
      ]
    },
    {
      "cell_type": "code",
      "metadata": {
        "id": "J9HwWG6f_Nh4",
        "colab_type": "code",
        "colab": {
          "base_uri": "https://localhost:8080/",
          "height": 68
        },
        "outputId": "a145deb5-1982-43e6-dffa-3918a83524cb"
      },
      "source": [
        "def char_case(string):\n",
        "    lowercase,uppercase,special=0,0,0\n",
        "    for char in string:\n",
        "        if char.isupper():\n",
        "            uppercase+=1\n",
        "        elif char.islower():\n",
        "            lowercase+=1\n",
        "        else:\n",
        "            special+=1\n",
        "    print(\"No of uppercase characters=\",uppercase)\n",
        "    print(\"No of lowercase characters=\",lowercase)\n",
        "    print(\"No of special characters=\",special)\n",
        "char_case(\"My name is vamsi\")"
      ],
      "execution_count": 8,
      "outputs": [
        {
          "output_type": "stream",
          "text": [
            "No of uppercase characters= 1\n",
            "No of lowercase characters= 12\n",
            "No of special characters= 3\n"
          ],
          "name": "stdout"
        }
      ]
    },
    {
      "cell_type": "code",
      "metadata": {
        "id": "9QHascMk_PpZ",
        "colab_type": "code",
        "colab": {
          "base_uri": "https://localhost:8080/",
          "height": 68
        },
        "outputId": "fe2aa119-5dca-4c49-c8cb-f70e8d007de3"
      },
      "source": [
        "char_case(\"My namE iS vamsi\")"
      ],
      "execution_count": 9,
      "outputs": [
        {
          "output_type": "stream",
          "text": [
            "No of uppercase characters= 3\n",
            "No of lowercase characters= 10\n",
            "No of special characters= 3\n"
          ],
          "name": "stdout"
        }
      ]
    },
    {
      "cell_type": "markdown",
      "metadata": {
        "id": "ykvPCvn0_K_4",
        "colab_type": "text"
      },
      "source": [
        ""
      ]
    }
  ]
}